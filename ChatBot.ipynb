{
  "nbformat": 4,
  "nbformat_minor": 0,
  "metadata": {
    "colab": {
      "name": "ChatBot",
      "provenance": []
    },
    "kernelspec": {
      "name": "python3",
      "display_name": "Python 3"
    }
  },
  "cells": [
    {
      "cell_type": "code",
      "metadata": {
        "id": "LQalUxm-F61S",
        "colab": {
          "base_uri": "https://localhost:8080/"
        },
        "outputId": "0e39b182-1cde-4d08-c608-ad109bcbb73c"
      },
      "source": [
        "pip install nltk\n"
      ],
      "execution_count": null,
      "outputs": [
        {
          "output_type": "stream",
          "text": [
            "Requirement already satisfied: nltk in /usr/local/lib/python3.6/dist-packages (3.2.5)\n",
            "Requirement already satisfied: six in /usr/local/lib/python3.6/dist-packages (from nltk) (1.15.0)\n"
          ],
          "name": "stdout"
        }
      ]
    },
    {
      "cell_type": "code",
      "metadata": {
        "id": "_I4x6FXTHBuC",
        "colab": {
          "base_uri": "https://localhost:8080/"
        },
        "outputId": "b43ce0b4-88a3-4c04-dc10-451a30e1806f"
      },
      "source": [
        "pip install newspaper3k"
      ],
      "execution_count": null,
      "outputs": [
        {
          "output_type": "stream",
          "text": [
            "Collecting newspaper3k\n",
            "\u001b[?25l  Downloading https://files.pythonhosted.org/packages/d7/b9/51afecb35bb61b188a4b44868001de348a0e8134b4dfa00ffc191567c4b9/newspaper3k-0.2.8-py3-none-any.whl (211kB)\n",
            "\u001b[K     |████████████████████████████████| 215kB 3.8MB/s \n",
            "\u001b[?25hRequirement already satisfied: Pillow>=3.3.0 in /usr/local/lib/python3.6/dist-packages (from newspaper3k) (7.0.0)\n",
            "Collecting tldextract>=2.0.1\n",
            "\u001b[?25l  Downloading https://files.pythonhosted.org/packages/ff/9e/578ea24d0149a5c179ded8ea53e2b8fc35d22f7bfdee9564844873b147ea/tldextract-3.0.2-py2.py3-none-any.whl (86kB)\n",
            "\u001b[K     |████████████████████████████████| 92kB 7.9MB/s \n",
            "\u001b[?25hCollecting feedparser>=5.2.1\n",
            "\u001b[?25l  Downloading https://files.pythonhosted.org/packages/1c/21/faf1bac028662cc8adb2b5ef7a6f3999a765baa2835331df365289b0ca56/feedparser-6.0.2-py3-none-any.whl (80kB)\n",
            "\u001b[K     |████████████████████████████████| 81kB 6.6MB/s \n",
            "\u001b[?25hCollecting tinysegmenter==0.3\n",
            "  Downloading https://files.pythonhosted.org/packages/17/82/86982e4b6d16e4febc79c2a1d68ee3b707e8a020c5d2bc4af8052d0f136a/tinysegmenter-0.3.tar.gz\n",
            "Requirement already satisfied: lxml>=3.6.0 in /usr/local/lib/python3.6/dist-packages (from newspaper3k) (4.2.6)\n",
            "Requirement already satisfied: nltk>=3.2.1 in /usr/local/lib/python3.6/dist-packages (from newspaper3k) (3.2.5)\n",
            "Requirement already satisfied: PyYAML>=3.11 in /usr/local/lib/python3.6/dist-packages (from newspaper3k) (3.13)\n",
            "Requirement already satisfied: requests>=2.10.0 in /usr/local/lib/python3.6/dist-packages (from newspaper3k) (2.23.0)\n",
            "Requirement already satisfied: python-dateutil>=2.5.3 in /usr/local/lib/python3.6/dist-packages (from newspaper3k) (2.8.1)\n",
            "Requirement already satisfied: beautifulsoup4>=4.4.1 in /usr/local/lib/python3.6/dist-packages (from newspaper3k) (4.6.3)\n",
            "Collecting jieba3k>=0.35.1\n",
            "\u001b[?25l  Downloading https://files.pythonhosted.org/packages/a9/cb/2c8332bcdc14d33b0bedd18ae0a4981a069c3513e445120da3c3f23a8aaa/jieba3k-0.35.1.zip (7.4MB)\n",
            "\u001b[K     |████████████████████████████████| 7.4MB 26.3MB/s \n",
            "\u001b[?25hCollecting feedfinder2>=0.0.4\n",
            "  Downloading https://files.pythonhosted.org/packages/35/82/1251fefec3bb4b03fd966c7e7f7a41c9fc2bb00d823a34c13f847fd61406/feedfinder2-0.0.4.tar.gz\n",
            "Collecting cssselect>=0.9.2\n",
            "  Downloading https://files.pythonhosted.org/packages/3b/d4/3b5c17f00cce85b9a1e6f91096e1cc8e8ede2e1be8e96b87ce1ed09e92c5/cssselect-1.1.0-py2.py3-none-any.whl\n",
            "Requirement already satisfied: idna in /usr/local/lib/python3.6/dist-packages (from tldextract>=2.0.1->newspaper3k) (2.10)\n",
            "Requirement already satisfied: filelock>=3.0.8 in /usr/local/lib/python3.6/dist-packages (from tldextract>=2.0.1->newspaper3k) (3.0.12)\n",
            "Collecting requests-file>=1.4\n",
            "  Downloading https://files.pythonhosted.org/packages/77/86/cdb5e8eaed90796aa83a6d9f75cfbd37af553c47a291cd47bc410ef9bdb2/requests_file-1.5.1-py2.py3-none-any.whl\n",
            "Collecting sgmllib3k\n",
            "  Downloading https://files.pythonhosted.org/packages/9e/bd/3704a8c3e0942d711c1299ebf7b9091930adae6675d7c8f476a7ce48653c/sgmllib3k-1.0.0.tar.gz\n",
            "Requirement already satisfied: six in /usr/local/lib/python3.6/dist-packages (from nltk>=3.2.1->newspaper3k) (1.15.0)\n",
            "Requirement already satisfied: certifi>=2017.4.17 in /usr/local/lib/python3.6/dist-packages (from requests>=2.10.0->newspaper3k) (2020.6.20)\n",
            "Requirement already satisfied: chardet<4,>=3.0.2 in /usr/local/lib/python3.6/dist-packages (from requests>=2.10.0->newspaper3k) (3.0.4)\n",
            "Requirement already satisfied: urllib3!=1.25.0,!=1.25.1,<1.26,>=1.21.1 in /usr/local/lib/python3.6/dist-packages (from requests>=2.10.0->newspaper3k) (1.24.3)\n",
            "Building wheels for collected packages: tinysegmenter, jieba3k, feedfinder2, sgmllib3k\n",
            "  Building wheel for tinysegmenter (setup.py) ... \u001b[?25l\u001b[?25hdone\n",
            "  Created wheel for tinysegmenter: filename=tinysegmenter-0.3-cp36-none-any.whl size=13538 sha256=04b03b60828170315259452dc9dd2fbe3f758409d295013e72c4242727363564\n",
            "  Stored in directory: /root/.cache/pip/wheels/81/2b/43/a02ede72324dd40cdd7ca53aad718c7710628e91b8b0dc0f02\n",
            "  Building wheel for jieba3k (setup.py) ... \u001b[?25l\u001b[?25hdone\n",
            "  Created wheel for jieba3k: filename=jieba3k-0.35.1-cp36-none-any.whl size=7398406 sha256=2febcf386aaa4ec9db45254e3b4ca00aba8afcdaf791f6d2caf70a33283258e3\n",
            "  Stored in directory: /root/.cache/pip/wheels/83/15/9c/a3f1f67e7f7181170ad37d32e503c35da20627c013f438ed34\n",
            "  Building wheel for feedfinder2 (setup.py) ... \u001b[?25l\u001b[?25hdone\n",
            "  Created wheel for feedfinder2: filename=feedfinder2-0.0.4-cp36-none-any.whl size=3355 sha256=72c388596984a26ba4b508e3754e43ec38cfe92c9984eb92a474582cd1fe87e5\n",
            "  Stored in directory: /root/.cache/pip/wheels/de/03/ca/778e3a7a627e3d98836cc890e7cb40c7575424cfd3340f40ed\n",
            "  Building wheel for sgmllib3k (setup.py) ... \u001b[?25l\u001b[?25hdone\n",
            "  Created wheel for sgmllib3k: filename=sgmllib3k-1.0.0-cp36-none-any.whl size=6067 sha256=ce12db1e5cdef92d6388b8036c3a52dfd71999e6fdcd4c743fd0a09347c18578\n",
            "  Stored in directory: /root/.cache/pip/wheels/f1/80/5a/444ba08a550cdd241bd9baf8bae44be750efe370adb944506a\n",
            "Successfully built tinysegmenter jieba3k feedfinder2 sgmllib3k\n",
            "Installing collected packages: requests-file, tldextract, sgmllib3k, feedparser, tinysegmenter, jieba3k, feedfinder2, cssselect, newspaper3k\n",
            "Successfully installed cssselect-1.1.0 feedfinder2-0.0.4 feedparser-6.0.2 jieba3k-0.35.1 newspaper3k-0.2.8 requests-file-1.5.1 sgmllib3k-1.0.0 tinysegmenter-0.3 tldextract-3.0.2\n"
          ],
          "name": "stdout"
        }
      ]
    },
    {
      "cell_type": "code",
      "metadata": {
        "id": "y4wiOK5NIKxt"
      },
      "source": [
        "from newspaper import Article \n",
        "import random\n",
        "\n",
        "import nltk\n",
        "\n",
        "from sklearn.feature_extraction.text import CountVectorizer\n",
        "from sklearn.metrics.pairwise import cosine_similarity\n",
        "import warnings\n",
        "warnings.filterwarnings('ignore')"
      ],
      "execution_count": null,
      "outputs": []
    },
    {
      "cell_type": "code",
      "metadata": {
        "id": "yUw35XVAJBWE",
        "colab": {
          "base_uri": "https://localhost:8080/"
        },
        "outputId": "30888934-718d-40f1-9679-89960bb8d6e2"
      },
      "source": [
        "nltk.download('punkt')"
      ],
      "execution_count": null,
      "outputs": [
        {
          "output_type": "stream",
          "text": [
            "[nltk_data] Downloading package punkt to /root/nltk_data...\n",
            "[nltk_data]   Unzipping tokenizers/punkt.zip.\n"
          ],
          "name": "stdout"
        },
        {
          "output_type": "execute_result",
          "data": {
            "text/plain": [
              "True"
            ]
          },
          "metadata": {
            "tags": []
          },
          "execution_count": 4
        }
      ]
    },
    {
      "cell_type": "code",
      "metadata": {
        "id": "kO7fwAhBJr4X"
      },
      "source": [
        "article = Article('https://www.hypable.com/harry-potter/list-of-spells/')"
      ],
      "execution_count": null,
      "outputs": []
    },
    {
      "cell_type": "code",
      "metadata": {
        "id": "Pwyt16AhMO-l"
      },
      "source": [
        "article.download()\n",
        "article.parse()\n",
        "article.nlp()\n",
        "\n",
        "article_text = article.text"
      ],
      "execution_count": null,
      "outputs": []
    },
    {
      "cell_type": "code",
      "metadata": {
        "id": "fDdm5MfBMiP6",
        "colab": {
          "base_uri": "https://localhost:8080/"
        },
        "outputId": "e489f15a-e627-4581-c4ee-c9d042ed9c14"
      },
      "source": [
        "print(article_text)"
      ],
      "execution_count": null,
      "outputs": [
        {
          "output_type": "stream",
          "text": [
            "Need to unlock a door? Disarm an enemy? Fix a broken object? There’s a Harry Potter spell for that! In the Harry Potter universe, there is a spell to fulfill any need, from the everyday to the extraordinary. Below is a list of all Harry Potter spells known to wizard and what they do. Last updated February 2020.\n",
            "\n",
            "Article Continues Below\n",
            "\n",
            "All Harry Potter spells: A list of what they do\n",
            "\n",
            "Get practicing all of these Harry Potter spells — make sure you’re prepared to traverse the Wizarding World! And if you love Harry Potter, take our quick-and-easy 2-Question Sorting Hat Quiz, and brush up on your Harry Potter cast list!\n",
            "\n",
            "You should also listen to MuggleCast, the weekly Harry Potter podcast discussing Fantastic Beasts, the original Harry Potter books, and so much more.\n",
            "\n",
            "– Aberto: unlocks a door; first seen in Fantastic Beasts (the movie)\n",
            "\n",
            "– Accio: Summoning Charm; used to summon objects toward the caster (usually from a long distance)\n",
            "\n",
            "– Aguamenti: produces a jet of water from the caster’s wand\n",
            "\n",
            "– Alohomora: used to unlock and open doors\n",
            "\n",
            "– Avada Kedavra: the Killing Curse; causes a green flash of light; Harry Potter is the only known survivor of this curse; one of three Unforgivable Curses banned by the Ministry of Magic\n",
            "\n",
            "– Bat-Bogey Hex: causes the victim’s bogies to enlarge, grow wings, and attack the victim\n",
            "\n",
            "– Bubble-Head Charm: creates a bubble of air around the caster’s head and mouth, acting as a breathing apparatus\n",
            "\n",
            "– Caterwauling Charm: causes a loud, high-pitched shrieking noise when encountered\n",
            "\n",
            "Related: Sorcerer’s Stone quotes that are even more inspiring 20 years later\n",
            "\n",
            "– Cheering Charm: causes the person upon whom the spell has been cast to become happy and content\n",
            "\n",
            "– Colloportus: used to magically lock a door and prevent it from being opened by non-magical means\n",
            "\n",
            "– Confringo: Blasting Charm; causes items the charm comes in contact with to burst into flames\n",
            "\n",
            "– Confundo: Confundus Charm; causes the victim to become confused and disoriented\n",
            "\n",
            "– Crucio: causes the victim extreme pain; one of three Unforgivable Curses banned by the Ministry of Magic\n",
            "\n",
            "– Descendo: causes the target object to move downward\n",
            "\n",
            "– Diffindo: Severing Charm; causes the targeted object to rip or tear\n",
            "\n",
            "– Disillusionment Charm: hides objects and humans\n",
            "\n",
            "– Engorgio: Engorgement Charm; causes objects to increase in size\n",
            "\n",
            "– Episkey: used to heal minor injuries\n",
            "\n",
            "– Evanesco: used to vanish objects\n",
            "\n",
            "– Expecto Patronum: used to cast a Patronus (a physical manifestation of one’s most positive feelings), which guards against dementors and can be used for communications\n",
            "\n",
            "– Expelliarmus: used to disarm another wizard\n",
            "\n",
            "– Finestra: shatters glass; first appears in Fantastic Beasts\n",
            "\n",
            "– Homenum Revelio: allows the caster to detect human presence\n",
            "\n",
            "– Impedimenta: Impediment Jinx; prevents the victim from approaching the caster (by knocking back, tripping, etc.)\n",
            "\n",
            "– Imperio: removes the victim’s free will and ability to make decisions for him- or herself; one of three Unforgivable Curses banned by the Ministry of Magic\n",
            "\n",
            "– Impervius: causes objects to repel outside forces, such as water\n",
            "\n",
            "– Incendio: creates fire\n",
            "\n",
            "– Levicorpus: a nonverbal spell that causes the victim to be dangled upside down by his or her ankles\n",
            "\n",
            "– Liberacorpus: the nonverbal countercurse to Levicorpus\n",
            "\n",
            "– Locomotor: causes an object to rise and move at the command of the caster\n",
            "\n",
            "– Lumos: projects a beam of light from the user’s wand\n",
            "\n",
            "– Morsmordre: conjures the Dark Mark\n",
            "\n",
            "– Muffliato: used to prevent conversations from being overheard by filling the ears of those nearby with an unidentifiable buzzing noise\n",
            "\n",
            "– Nox: puts out wand light\n",
            "\n",
            "– Obliviate: used to hide memories\n",
            "\n",
            "– Permanent Sticking Charm: causes objects to permanently stay in place\n",
            "\n",
            "– Petrificus Totalus: Full Body-Bind Curse; temporarily binds the victim’s entire body, thus immobilizing him or her\n",
            "\n",
            "– Portus: turns objects into Portkeys\n",
            "\n",
            "– Priori Incantato: creates an “echo” of previously performed spells\n",
            "\n",
            "– Protego: Shield Charm; rebounds minor to moderate hexes, jinxes, and spells upon their caster\n",
            "\n",
            "– Reducto: Reductor Curse; breaks objects and in its strongest form has the ability to disintegrate them\n",
            "\n",
            "– Rennervate: revives the victim of a Stunning Spell\n",
            "\n",
            "– Relashio: causes the victim to release whatever they are holding\n",
            "\n",
            "– Rennervate: revives someone who has been Stunned\n",
            "\n",
            "– Reparo: used to repair broken objects\n",
            "\n",
            "– Revelio: a revealing spell; first used in the Fantastic Beasts film to reveal Graves is Grindelwald\n",
            "\n",
            "– Rictusempra: Tickling Charm; causes an extreme tickling sensation that disables the victim\n",
            "\n",
            "– Riddikulus: spell used when fighting a Boggart; causes the Boggart to transform into something the caster finds humorous\n",
            "\n",
            "– Scourgify: used to clean objects\n",
            "\n",
            "– Sectumsempra: spell that causes deep gashes on the victim’s body\n",
            "\n",
            "– Silencio: used to make something silent\n",
            "\n",
            "– Sonorus: magically magnifies one’s voice\n",
            "\n",
            "– Stupefy: used to stun a victim\n",
            "\n",
            "– Taboo: a jinx that can be placed upon a word so that when the word is spoken, a magical disturbance is created which alerts the caster of the Taboo\n",
            "\n",
            "– Tergeo: used to remove matter (blood, dirt, etc.) from an object\n",
            "\n",
            "– Unbreakable Vow: causes the vow being taken by the witch or wizard to be inviolable with the consequence of death if it is breeched\n",
            "\n",
            "– Wingardium Leviosa: Hover Charm; causes an object to levitate\n",
            "\n",
            "Harry Potter spells that debuted in’Fantastic Beasts’\n",
            "\n",
            "With November 2016’s Fantastic Beasts and Where to Find Them and November 2018’s Fantastic Beasts: The Crimes of Grindelwald, J.K. Rowling came up with several new spells that should be considered canon. Here are the new spells we pulled from her screenplays, which were released concurrently with the movies.\n",
            "\n",
            "– Appare Vestigium: Tracking spell that “materializes as a swirl of gold” and shows “traces of recent magical activity.” Used by Newt to track beasts and Tina.\n",
            "\n",
            "– Avenseguim: Takes an object owned by someone and turns it into a way to track that person down. Newt used the spell on the feather from Kama’s cap to find him.\n",
            "\n",
            "– Finite: A spell to counter Protego Diabolica. Used by Flamel and friends. We’ve seen this one before, but not in this way.\n",
            "\n",
            "– Nebulus: Creates a swirling fog. Used by Dumbledore to stay under cover, descends over London.\n",
            "\n",
            "– Protego Diabolica: Creates a protective circle — those who are truly on Grindelwald’s side can walk through the flame. Notably, Rowling describes the flame twice as a “black fire,” but in the movie it’s blue.\n",
            "\n",
            "– Surgito: Removes a love enchantment spell. Used by Newt on Jacob to remove Queenie’s enchantment.\n",
            "\n",
            "– Papyrus Reparo: Repairs a torn up postcard.\n",
            "\n",
            "– Ventus: A spell to create a hurricane-force wind, used by Newt to repel the Auror Stebbins.\n"
          ],
          "name": "stdout"
        }
      ]
    },
    {
      "cell_type": "code",
      "metadata": {
        "id": "_o0OatKBle_d"
      },
      "source": [
        "text = article_text\n",
        "sentence_list = nltk.sent_tokenize(text)\n"
      ],
      "execution_count": null,
      "outputs": []
    },
    {
      "cell_type": "code",
      "metadata": {
        "id": "e33RlBJVlzLU",
        "colab": {
          "base_uri": "https://localhost:8080/"
        },
        "outputId": "f106c662-5489-426b-980e-1738163f34b1"
      },
      "source": [
        "print(sentence_list)"
      ],
      "execution_count": null,
      "outputs": [
        {
          "output_type": "stream",
          "text": [
            "['Need to unlock a door?', 'Disarm an enemy?', 'Fix a broken object?', 'There’s a Harry Potter spell for that!', 'In the Harry Potter universe, there is a spell to fulfill any need, from the everyday to the extraordinary.', 'Below is a list of all Harry Potter spells known to wizard and what they do.', 'Last updated February 2020.', 'Article Continues Below\\n\\nAll Harry Potter spells: A list of what they do\\n\\nGet practicing all of these Harry Potter spells — make sure you’re prepared to traverse the Wizarding World!', 'And if you love Harry Potter, take our quick-and-easy 2-Question Sorting Hat Quiz, and brush up on your Harry Potter cast list!', 'You should also listen to MuggleCast, the weekly Harry Potter podcast discussing Fantastic Beasts, the original Harry Potter books, and so much more.', '– Aberto: unlocks a door; first seen in Fantastic Beasts (the movie)\\n\\n– Accio: Summoning Charm; used to summon objects toward the caster (usually from a long distance)\\n\\n– Aguamenti: produces a jet of water from the caster’s wand\\n\\n– Alohomora: used to unlock and open doors\\n\\n– Avada Kedavra: the Killing Curse; causes a green flash of light; Harry Potter is the only known survivor of this curse; one of three Unforgivable Curses banned by the Ministry of Magic\\n\\n– Bat-Bogey Hex: causes the victim’s bogies to enlarge, grow wings, and attack the victim\\n\\n– Bubble-Head Charm: creates a bubble of air around the caster’s head and mouth, acting as a breathing apparatus\\n\\n– Caterwauling Charm: causes a loud, high-pitched shrieking noise when encountered\\n\\nRelated: Sorcerer’s Stone quotes that are even more inspiring 20 years later\\n\\n– Cheering Charm: causes the person upon whom the spell has been cast to become happy and content\\n\\n– Colloportus: used to magically lock a door and prevent it from being opened by non-magical means\\n\\n– Confringo: Blasting Charm; causes items the charm comes in contact with to burst into flames\\n\\n– Confundo: Confundus Charm; causes the victim to become confused and disoriented\\n\\n– Crucio: causes the victim extreme pain; one of three Unforgivable Curses banned by the Ministry of Magic\\n\\n– Descendo: causes the target object to move downward\\n\\n– Diffindo: Severing Charm; causes the targeted object to rip or tear\\n\\n– Disillusionment Charm: hides objects and humans\\n\\n– Engorgio: Engorgement Charm; causes objects to increase in size\\n\\n– Episkey: used to heal minor injuries\\n\\n– Evanesco: used to vanish objects\\n\\n– Expecto Patronum: used to cast a Patronus (a physical manifestation of one’s most positive feelings), which guards against dementors and can be used for communications\\n\\n– Expelliarmus: used to disarm another wizard\\n\\n– Finestra: shatters glass; first appears in Fantastic Beasts\\n\\n– Homenum Revelio: allows the caster to detect human presence\\n\\n– Impedimenta: Impediment Jinx; prevents the victim from approaching the caster (by knocking back, tripping, etc.)', '– Imperio: removes the victim’s free will and ability to make decisions for him- or herself; one of three Unforgivable Curses banned by the Ministry of Magic\\n\\n– Impervius: causes objects to repel outside forces, such as water\\n\\n– Incendio: creates fire\\n\\n– Levicorpus: a nonverbal spell that causes the victim to be dangled upside down by his or her ankles\\n\\n– Liberacorpus: the nonverbal countercurse to Levicorpus\\n\\n– Locomotor: causes an object to rise and move at the command of the caster\\n\\n– Lumos: projects a beam of light from the user’s wand\\n\\n– Morsmordre: conjures the Dark Mark\\n\\n– Muffliato: used to prevent conversations from being overheard by filling the ears of those nearby with an unidentifiable buzzing noise\\n\\n– Nox: puts out wand light\\n\\n– Obliviate: used to hide memories\\n\\n– Permanent Sticking Charm: causes objects to permanently stay in place\\n\\n– Petrificus Totalus: Full Body-Bind Curse; temporarily binds the victim’s entire body, thus immobilizing him or her\\n\\n– Portus: turns objects into Portkeys\\n\\n– Priori Incantato: creates an “echo” of previously performed spells\\n\\n– Protego: Shield Charm; rebounds minor to moderate hexes, jinxes, and spells upon their caster\\n\\n– Reducto: Reductor Curse; breaks objects and in its strongest form has the ability to disintegrate them\\n\\n– Rennervate: revives the victim of a Stunning Spell\\n\\n– Relashio: causes the victim to release whatever they are holding\\n\\n– Rennervate: revives someone who has been Stunned\\n\\n– Reparo: used to repair broken objects\\n\\n– Revelio: a revealing spell; first used in the Fantastic Beasts film to reveal Graves is Grindelwald\\n\\n– Rictusempra: Tickling Charm; causes an extreme tickling sensation that disables the victim\\n\\n– Riddikulus: spell used when fighting a Boggart; causes the Boggart to transform into something the caster finds humorous\\n\\n– Scourgify: used to clean objects\\n\\n– Sectumsempra: spell that causes deep gashes on the victim’s body\\n\\n– Silencio: used to make something silent\\n\\n– Sonorus: magically magnifies one’s voice\\n\\n– Stupefy: used to stun a victim\\n\\n– Taboo: a jinx that can be placed upon a word so that when the word is spoken, a magical disturbance is created which alerts the caster of the Taboo\\n\\n– Tergeo: used to remove matter (blood, dirt, etc.)', 'from an object\\n\\n– Unbreakable Vow: causes the vow being taken by the witch or wizard to be inviolable with the consequence of death if it is breeched\\n\\n– Wingardium Leviosa: Hover Charm; causes an object to levitate\\n\\nHarry Potter spells that debuted in’Fantastic Beasts’\\n\\nWith November 2016’s Fantastic Beasts and Where to Find Them and November 2018’s Fantastic Beasts: The Crimes of Grindelwald, J.K. Rowling came up with several new spells that should be considered canon.', 'Here are the new spells we pulled from her screenplays, which were released concurrently with the movies.', '– Appare Vestigium: Tracking spell that “materializes as a swirl of gold” and shows “traces of recent magical activity.” Used by Newt to track beasts and Tina.', '– Avenseguim: Takes an object owned by someone and turns it into a way to track that person down.', 'Newt used the spell on the feather from Kama’s cap to find him.', '– Finite: A spell to counter Protego Diabolica.', 'Used by Flamel and friends.', 'We’ve seen this one before, but not in this way.', '– Nebulus: Creates a swirling fog.', 'Used by Dumbledore to stay under cover, descends over London.', '– Protego Diabolica: Creates a protective circle — those who are truly on Grindelwald’s side can walk through the flame.', 'Notably, Rowling describes the flame twice as a “black fire,” but in the movie it’s blue.', '– Surgito: Removes a love enchantment spell.', 'Used by Newt on Jacob to remove Queenie’s enchantment.', '– Papyrus Reparo: Repairs a torn up postcard.', '– Ventus: A spell to create a hurricane-force wind, used by Newt to repel the Auror Stebbins.']\n"
          ],
          "name": "stdout"
        }
      ]
    },
    {
      "cell_type": "code",
      "metadata": {
        "id": "OaUjpGkXmOoY"
      },
      "source": [
        "def greeting_response(text):\n",
        "  text = text.lower()\n",
        "\n",
        "  #Bot greeting response\n",
        "  bot_greeting = ['Hello, Welcome to WizBot','Hi, Welcome to WizBot', ]\n",
        "\n",
        "  #User greeting\n",
        "  user_greeting = [\"Hi\",\"What's up?\", \"Yo\"]\n",
        "\n",
        "  for word in text.split():\n",
        "    if word in user_greeting:\n",
        "      return random.choice(bot_greeting)"
      ],
      "execution_count": null,
      "outputs": []
    },
    {
      "cell_type": "code",
      "metadata": {
        "id": "j7aLqlYdHgZf"
      },
      "source": [
        "def index_sort(list_var):\n",
        "  length = len(list_var)\n",
        "  list_index = list(range(0,length))\n",
        "\n",
        "  x = list_var\n",
        "  for i in range(length):\n",
        "    for j in range(length):\n",
        "      if x[list_index[i]] > x[list_index[j]]:\n",
        "        #Swap\n",
        "        temp = list_index[i]\n",
        "        list_index[i] = list_index[j]\n",
        "        list_index[j] = temp\n",
        "\n",
        "    return list_index\n",
        "\n"
      ],
      "execution_count": null,
      "outputs": []
    },
    {
      "cell_type": "code",
      "metadata": {
        "id": "U18YM2u6n67v"
      },
      "source": [
        "#Bot response\n",
        "def bot_response(user_input):\n",
        "  user_input = user_input.lower()\n",
        "  sentence_list.append(user_input)\n",
        "  bot_response = ''\n",
        "  cm = CountVectorizer().fit_transform(sentence_list)\n",
        "  similarity_scores = cosine_similarity(cm[-1],cm)\n",
        "  similarity_scores_list = similarity_scores.flatten()\n",
        "  index = index_sort(similarity_scores_list)\n",
        "\n",
        "  index = index[1:]\n",
        "  response_flag = 0\n",
        "\n",
        "  j = 0 \n",
        "  for i in range(len(index)):\n",
        "    if similarity_scores_list[index[i]] > 0.0:\n",
        "      bot_response = bot_response + ' ' + sentence_list[index[i]]\n",
        "      response_flag = 1\n",
        "      j = j + 1\n",
        "\n",
        "    if j>3:\n",
        "      break\n",
        "\n",
        "  if response_flag == 0:\n",
        "    bot_response = bot_response + ' ' + \"Can you please rephrase your question\"\n",
        "\n",
        "  sentence_list.remove(user_input)\n",
        "\n",
        "  return bot_response\n",
        "\n",
        "\n"
      ],
      "execution_count": null,
      "outputs": []
    },
    {
      "cell_type": "code",
      "metadata": {
        "id": "_n-19fxlMM8m",
        "colab": {
          "base_uri": "https://localhost:8080/"
        },
        "outputId": "4aefc69c-1ab4-458f-a80a-30845568b5a6"
      },
      "source": [
        "#Start the chat\n",
        "\n",
        "print (\"Yo, I am Merlin, the smart wizard. If can tell you about any (well most) spells that you want to know about \")\n",
        "\n",
        "exit_list = ['exit', 'see you later', 'bye', 'quit', 'break']\n",
        "\n",
        "while (True):\n",
        "  user_input = input()\n",
        "  if user_input.lower() in exit_list:\n",
        "    print(\"Bye- bye\")\n",
        "    break\n",
        " \n",
        "  else:\n",
        "    if greeting_response (user_input) != None:\n",
        "      print(\"Merlin: \" + greeting_response(user_input))\n",
        "    else:\n",
        "      print (\"Merlin: \" + bot_response(user_input))\n"
      ],
      "execution_count": null,
      "outputs": [
        {
          "output_type": "stream",
          "text": [
            "Yo, I am Merlin, the smart wizard. If can tell you about any (well most) spells that you want to know about \n",
            "Hello\n",
            "Merlin:  hello\n",
            "What is accio?\n",
            "Merlin:  In the Harry Potter universe, there is a spell to fulfill any need, from the everyday to the extraordinary. Below is a list of all Harry Potter spells known to wizard and what they do. Article Continues Below\n",
            "\n",
            "All Harry Potter spells: A list of what they do\n",
            "\n",
            "Get practicing all of these Harry Potter spells — make sure you’re prepared to traverse the Wizarding World! – Aberto: unlocks a door; first seen in Fantastic Beasts (the movie)\n",
            "\n",
            "– Accio: Summoning Charm; used to summon objects toward the caster (usually from a long distance)\n",
            "\n",
            "– Aguamenti: produces a jet of water from the caster’s wand\n",
            "\n",
            "– Alohomora: used to unlock and open doors\n",
            "\n",
            "– Avada Kedavra: the Killing Curse; causes a green flash of light; Harry Potter is the only known survivor of this curse; one of three Unforgivable Curses banned by the Ministry of Magic\n",
            "\n",
            "– Bat-Bogey Hex: causes the victim’s bogies to enlarge, grow wings, and attack the victim\n",
            "\n",
            "– Bubble-Head Charm: creates a bubble of air around the caster’s head and mouth, acting as a breathing apparatus\n",
            "\n",
            "– Caterwauling Charm: causes a loud, high-pitched shrieking noise when encountered\n",
            "\n",
            "Related: Sorcerer’s Stone quotes that are even more inspiring 20 years later\n",
            "\n",
            "– Cheering Charm: causes the person upon whom the spell has been cast to become happy and content\n",
            "\n",
            "– Colloportus: used to magically lock a door and prevent it from being opened by non-magical means\n",
            "\n",
            "– Confringo: Blasting Charm; causes items the charm comes in contact with to burst into flames\n",
            "\n",
            "– Confundo: Confundus Charm; causes the victim to become confused and disoriented\n",
            "\n",
            "– Crucio: causes the victim extreme pain; one of three Unforgivable Curses banned by the Ministry of Magic\n",
            "\n",
            "– Descendo: causes the target object to move downward\n",
            "\n",
            "– Diffindo: Severing Charm; causes the targeted object to rip or tear\n",
            "\n",
            "– Disillusionment Charm: hides objects and humans\n",
            "\n",
            "– Engorgio: Engorgement Charm; causes objects to increase in size\n",
            "\n",
            "– Episkey: used to heal minor injuries\n",
            "\n",
            "– Evanesco: used to vanish objects\n",
            "\n",
            "– Expecto Patronum: used to cast a Patronus (a physical manifestation of one’s most positive feelings), which guards against dementors and can be used for communications\n",
            "\n",
            "– Expelliarmus: used to disarm another wizard\n",
            "\n",
            "– Finestra: shatters glass; first appears in Fantastic Beasts\n",
            "\n",
            "– Homenum Revelio: allows the caster to detect human presence\n",
            "\n",
            "– Impedimenta: Impediment Jinx; prevents the victim from approaching the caster (by knocking back, tripping, etc.)\n"
          ],
          "name": "stdout"
        }
      ]
    }
  ]
}